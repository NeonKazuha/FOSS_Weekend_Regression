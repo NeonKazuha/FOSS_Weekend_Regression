{
 "cells": [
  {
   "cell_type": "markdown",
   "id": "722cf75a-12f8-4cb3-83d1-11fe781d7563",
   "metadata": {},
   "source": [
    "### Import Dependencies"
   ]
  },
  {
   "cell_type": "code",
   "execution_count": 2,
   "id": "0a86b6ba-97a0-4815-90f1-371f776d4521",
   "metadata": {},
   "outputs": [],
   "source": [
    "import pandas as pd\n",
    "import warnings\n",
    "warnings.filterwarnings('ignore')\n",
    "import random"
   ]
  },
  {
   "cell_type": "markdown",
   "id": "4193dd54-4c74-40d2-ba82-161d81d47fff",
   "metadata": {},
   "source": [
    "### Load Dataset"
   ]
  },
  {
   "cell_type": "code",
   "execution_count": 4,
   "id": "b88bb863-f97d-44d5-9713-709ae8521490",
   "metadata": {},
   "outputs": [],
   "source": [
    "df = pd.read_csv('wines_SPA.csv')"
   ]
  },
  {
   "cell_type": "code",
   "execution_count": 5,
   "id": "8b5f9d2c-af49-4b1a-aabb-955c9ad047ec",
   "metadata": {},
   "outputs": [],
   "source": [
    "df = df.dropna()"
   ]
  },
  {
   "cell_type": "code",
   "execution_count": 6,
   "id": "9aa8bc20",
   "metadata": {},
   "outputs": [
    {
     "name": "stdout",
     "output_type": "stream",
     "text": [
      "<class 'pandas.core.frame.DataFrame'>\n",
      "Index: 6329 entries, 0 to 7499\n",
      "Data columns (total 11 columns):\n",
      " #   Column       Non-Null Count  Dtype  \n",
      "---  ------       --------------  -----  \n",
      " 0   winery       6329 non-null   object \n",
      " 1   wine         6329 non-null   object \n",
      " 2   year         6329 non-null   object \n",
      " 3   rating       6329 non-null   float64\n",
      " 4   num_reviews  6329 non-null   int64  \n",
      " 5   country      6329 non-null   object \n",
      " 6   region       6329 non-null   object \n",
      " 7   price        6329 non-null   float64\n",
      " 8   type         6329 non-null   object \n",
      " 9   body         6329 non-null   float64\n",
      " 10  acidity      6329 non-null   float64\n",
      "dtypes: float64(4), int64(1), object(6)\n",
      "memory usage: 593.3+ KB\n"
     ]
    }
   ],
   "source": [
    "df.info()"
   ]
  },
  {
   "cell_type": "markdown",
   "id": "216f1161-7d2e-43ff-be2c-157547e6ba3b",
   "metadata": {},
   "source": [
    "### Implement Train Test Split Manually"
   ]
  },
  {
   "cell_type": "code",
   "execution_count": 36,
   "id": "cb0351a4-bc72-4b22-aae2-d97026eb1a31",
   "metadata": {},
   "outputs": [],
   "source": [
    "def train_test_split(df, target, test_size = 0.2):\n",
    "    df = df.sample(frac = 1, random_state = 1) \n",
    "    len_data = len(df)\n",
    "    test_index = int(len_data * test_size)\n",
    "    X_train = df.iloc[test_index:]\n",
    "    X_test = df.iloc[:test_index]\n",
    "    y_train = X_train[target]\n",
    "    y_test = X_test[target]\n",
    "    X_train = X_train.drop(columns = [target])\n",
    "    X_test = X_test.drop(columns = [target])\n",
    "    return X_train, y_train, X_test, y_test"
   ]
  },
  {
   "cell_type": "code",
   "execution_count": 38,
   "id": "37b4ac36-2e77-4571-b83c-fda18d797abd",
   "metadata": {
    "tags": []
   },
   "outputs": [],
   "source": [
    "X_train, y_train, X_test, y_test = train_test_split(df, 'price')"
   ]
  },
  {
   "cell_type": "code",
   "execution_count": 40,
   "id": "fafd76ab-1bec-40b3-8af1-860252d4f6ba",
   "metadata": {
    "tags": []
   },
   "outputs": [
    {
     "name": "stdout",
     "output_type": "stream",
     "text": [
      "(5064, 10) (1265, 10) (5064,) (1265,)\n"
     ]
    }
   ],
   "source": [
    "print(X_train.shape, X_test.shape, y_train.shape, y_test.shape)"
   ]
  }
 ],
 "metadata": {
  "kernelspec": {
   "display_name": "Python 3 (ipykernel)",
   "language": "python",
   "name": "python3"
  },
  "language_info": {
   "codemirror_mode": {
    "name": "ipython",
    "version": 3
   },
   "file_extension": ".py",
   "mimetype": "text/x-python",
   "name": "python",
   "nbconvert_exporter": "python",
   "pygments_lexer": "ipython3",
   "version": "3.11.5"
  }
 },
 "nbformat": 4,
 "nbformat_minor": 5
}
