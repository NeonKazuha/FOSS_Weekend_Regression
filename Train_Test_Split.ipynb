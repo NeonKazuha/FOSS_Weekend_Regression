{
 "cells": [
  {
   "cell_type": "markdown",
   "id": "722cf75a-12f8-4cb3-83d1-11fe781d7563",
   "metadata": {},
   "source": [
    "### Import Dependencies"
   ]
  },
  {
   "cell_type": "code",
   "execution_count": 4,
   "id": "0a86b6ba-97a0-4815-90f1-371f776d4521",
   "metadata": {},
   "outputs": [],
   "source": [
    "import pandas as pd\n",
    "import warnings\n",
    "warnings.filterwarnings('ignore')"
   ]
  },
  {
   "cell_type": "markdown",
   "id": "4193dd54-4c74-40d2-ba82-161d81d47fff",
   "metadata": {},
   "source": [
    "### Load Dataset"
   ]
  },
  {
   "cell_type": "code",
   "execution_count": 54,
   "id": "b88bb863-f97d-44d5-9713-709ae8521490",
   "metadata": {},
   "outputs": [],
   "source": [
    "df = pd.read_csv('wines_SPA.csv')"
   ]
  },
  {
   "cell_type": "code",
   "execution_count": 55,
   "id": "8b5f9d2c-af49-4b1a-aabb-955c9ad047ec",
   "metadata": {},
   "outputs": [],
   "source": [
    "df = df.dropna()"
   ]
  },
  {
   "cell_type": "code",
   "execution_count": null,
   "id": "9aa8bc20",
   "metadata": {},
   "outputs": [],
   "source": [
    "df.info()"
   ]
  },
  {
   "cell_type": "markdown",
   "id": "216f1161-7d2e-43ff-be2c-157547e6ba3b",
   "metadata": {},
   "source": [
    "### Implement Train Test Split Manually"
   ]
  },
  {
   "cell_type": "code",
   "execution_count": 58,
   "id": "05f83f04-4efa-4a07-a349-60a09911bc2f",
   "metadata": {},
   "outputs": [],
   "source": [
    "features = df.drop(columns = ['price'])\n",
    "target = df['price']"
   ]
  },
  {
   "cell_type": "code",
   "execution_count": 57,
   "id": "cb0351a4-bc72-4b22-aae2-d97026eb1a31",
   "metadata": {},
   "outputs": [],
   "source": [
    "def train_test_split(data, test_size=0.2):\n",
    "  len_data = len(data)\n",
    "  test_index = int(len_data * test_size)\n",
    "  X_test = features[:test_index]\n",
    "  y_test = target[:test_index]\n",
    "  X_train = features[test_index:]\n",
    "  y_train = target[test_index:]\n",
    "  return X_train, y_train, X_test, y_test"
   ]
  },
  {
   "cell_type": "code",
   "execution_count": 59,
   "id": "37b4ac36-2e77-4571-b83c-fda18d797abd",
   "metadata": {},
   "outputs": [],
   "source": [
    "X_train, y_train, X_test, y_test = train_test_split(df)"
   ]
  },
  {
   "cell_type": "code",
   "execution_count": 65,
   "id": "fafd76ab-1bec-40b3-8af1-860252d4f6ba",
   "metadata": {},
   "outputs": [
    {
     "name": "stdout",
     "output_type": "stream",
     "text": [
      "(5064, 10) (1265, 10) (5064,) (1265,)\n"
     ]
    }
   ],
   "source": [
    "print(X_train.shape, X_test.shape, y_train.shape, y_test.shape)"
   ]
  }
 ],
 "metadata": {
  "kernelspec": {
   "display_name": "base",
   "language": "python",
   "name": "python3"
  },
  "language_info": {
   "codemirror_mode": {
    "name": "ipython",
    "version": 3
   },
   "file_extension": ".py",
   "mimetype": "text/x-python",
   "name": "python",
   "nbconvert_exporter": "python",
   "pygments_lexer": "ipython3",
   "version": "3.11.5"
  }
 },
 "nbformat": 4,
 "nbformat_minor": 5
}
